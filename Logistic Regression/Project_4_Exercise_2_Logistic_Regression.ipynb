{
  "cells": [
    {
      "cell_type": "markdown",
      "metadata": {
        "id": "yuCZqdIBppNV"
      },
      "source": [
        "# Programming Exercise 2: Classification using Logistic Regression and Neural Networks\n",
        "\n",
        "> In this exercise, you will implement logistic regression and apply it to two different datasets."
      ]
    },
    {
      "cell_type": "markdown",
      "metadata": {
        "id": "W2bYrQApppNX"
      },
      "source": [
        "## 1. Logistic Regression\n",
        "\n",
        "A video game designer is trying to find a way to dynamically calibrate the difficulty of a final \"boss fight\" at the end of a level.  \n",
        "\n",
        "The particular task is to use scores from two previous challenges to determine if a player is likely to pass the final challenge.\n",
        "\n",
        "Player testing has provided a data set.\n",
        "The data contains for each player, the player's two scores and whether or not the final challenge was completed successfully."
      ]
    },
    {
      "cell_type": "code",
      "execution_count": 1,
      "metadata": {
        "id": "Vo0vEQxHJQ3V"
      },
      "outputs": [],
      "source": [
        "import numpy as np\n",
        "import matplotlib.pyplot as plt"
      ]
    },
    {
      "cell_type": "code",
      "execution_count": 2,
      "metadata": {},
      "outputs": [
        {
          "name": "stdout",
          "output_type": "stream",
          "text": [
            "/Users/juliansutaria\n"
          ]
        }
      ],
      "source": [
        "#pip install torch\n",
        "import os\n",
        "print(os.getcwd())"
      ]
    },
    {
      "cell_type": "code",
      "execution_count": 3,
      "metadata": {},
      "outputs": [],
      "source": [
        "import torch"
      ]
    },
    {
      "cell_type": "markdown",
      "metadata": {
        "id": "h9U3sx9xuJ7H"
      },
      "source": [
        "## 1.1 Load the data and visualize\n",
        "\n",
        "We will interface with the data in a similar fashion to Exercise 1.\n",
        "\n",
        "The input data file `ex2data.txt` can be downloaded from this [link](https://drive.google.com/file/d/1ox7K4_wSqvUPgPyIDB3GwoFGFTQNIbPi/view?usp=drive_link).\n",
        "\n",
        "As this is a co-lab notebook, we assume that the file has been uploaded to `/content/sample_data/`. Use the folder button on the left-hand side to navigate the instance's file system folders."
      ]
    },
    {
      "cell_type": "code",
      "execution_count": 4,
      "metadata": {
        "colab": {
          "base_uri": "https://localhost:8080/"
        },
        "id": "USoRvTfcsoze",
        "outputId": "d7090251-b3b2-4db6-8884-1d196fc4ed60"
      },
      "outputs": [
        {
          "name": "stdout",
          "output_type": "stream",
          "text": [
            "shape of numpy array (expected to be (100,3)):  (100, 3)\n"
          ]
        }
      ],
      "source": [
        "# we use numpy's import function\n",
        "from numpy import genfromtxt\n",
        "data = genfromtxt('/Users/juliansutaria/Downloads/untitled folder 2/ex2data1.txt', delimiter=',')\n",
        "\n",
        "print(\"shape of numpy array (expected to be (100,3)): \",data.shape)"
      ]
    },
    {
      "cell_type": "code",
      "execution_count": 6,
      "metadata": {
        "colab": {
          "base_uri": "https://localhost:8080/",
          "height": 482
        },
        "id": "Zgzizr7dtTV_",
        "outputId": "b36cd07c-fb70-46ba-cc5a-e0e7c4e271c8"
      },
      "outputs": [
        {
          "name": "stdout",
          "output_type": "stream",
          "text": [
            "(100,)\n",
            "(60, 2)\n",
            "(40, 2)\n"
          ]
        },
        {
          "data": {
            "image/png": "[encoded data removed]",
            "text/plain": [
              "<Figure size 640x480 with 1 Axes>"
            ]
          },
          "metadata": {},
          "output_type": "display_data"
        }
      ],
      "source": [
        "# let's plot the data for the two classes.\n",
        "\n",
        "# first we need to separate the score of passing players from non-passing players\n",
        "# we can create an array with each row being true or false based on the flag\n",
        "\n",
        "# slice out the 3rd column, indicating if passed (=1) or failed(=0)\n",
        "boss_result = data[:,2] # I want all the rows (:) but only the second column\n",
        "print(boss_result.shape)\n",
        "\n",
        "player_passed = boss_result==1 # this test is run on each row of boss_result\n",
        "\n",
        "# now we can filter the scores for the passing players\n",
        "passing_scores = data[player_passed[:],:2] # select only rows for passing players\n",
        "print(passing_scores.shape)\n",
        "\n",
        "# and the scores for the failing players\n",
        "failing_scores = data[~player_passed[:],:2] # selet rows for failing players\n",
        "print(failing_scores.shape)\n",
        "\n",
        "plt.scatter(passing_scores[:,0], passing_scores[:,1], s=10, c='r')\n",
        "plt.scatter(failing_scores[:,0], failing_scores[:,1], s=10, c='b')\n",
        "plt.show()"
      ]
    },
    {
      "cell_type": "code",
      "execution_count": 21,
      "metadata": {
        "colab": {
          "base_uri": "https://localhost:8080/",
          "height": 447
        },
        "id": "RDaTs0tmppNZ",
        "outputId": "848a0213-dc6b-4f96-a008-f076d38a35ae"
      },
      "outputs": [
        {
          "name": "stdout",
          "output_type": "stream",
          "text": [
            "torch.Size([100, 1])\n"
          ]
        },
        {
          "data": {
            "image/png": "[encoded data removed]",
            "text/plain": [
              "<Figure size 640x480 with 1 Axes>"
            ]
          },
          "metadata": {},
          "output_type": "display_data"
        }
      ],
      "source": [
        "# 1D Logistic regression\n",
        "# to start, we can turn this into a 1D logistic regression problem\n",
        "\n",
        "# Add the numbers together\n",
        "score1 = (data[:,0]-np.mean(data[:,0]))/np.std(data[:,0])\n",
        "score2 = (data[:,1]-np.mean(data[:,1]))/np.std(data[:,1])\n",
        "# result = torch.from_numpy(data[:,2])\n",
        "result = torch.tensor(data[:,2], dtype=torch.float32)\n",
        "result = result.unsqueeze(1)\n",
        "print(result.shape)\n",
        "\n",
        "ave_score = 0.5*(score1 + score2)\n",
        "# print(ave_score.shape)\n",
        "# print(result.shape)\n",
        "\n",
        "ave_score_passing = ave_score[player_passed]\n",
        "ave_score_failing = ave_score[~player_passed]\n",
        "result_passing = result[player_passed]\n",
        "result_failing = result[~player_passed]\n",
        "\n",
        "plt.scatter(ave_score_passing, result_passing, s=20, c='r')\n",
        "plt.scatter(ave_score_failing, result_failing, s=20, c='b')\n",
        "plt.show()\n"
      ]
    },
    {
      "cell_type": "code",
      "execution_count": 5,
      "metadata": {
        "id": "GT0YzWXyt0qg"
      },
      "outputs": [],
      "source": [
        "def logistic_fn( x, theta):\n",
        "  score = theta[0] + theta[1]*x\n",
        "  return 1.0/(1+np.exp(-score))\n"
      ]
    },
    {
      "cell_type": "code",
      "execution_count": 8,
      "metadata": {
        "colab": {
          "base_uri": "https://localhost:8080/"
        },
        "id": "0IjnxvSWphJr",
        "outputId": "7230da84-8d40-4fcd-c277-f6924a147186"
      },
      "outputs": [
        {
          "name": "stdout",
          "output_type": "stream",
          "text": [
            "(2,)\n",
            "(100,)\n"
          ]
        }
      ],
      "source": [
        "# eyeballing values\n",
        "th = np.array((-65.0, 1.0))\n",
        "print(th.shape)\n",
        "pred = logistic_fn(ave_score, th)\n",
        "print(pred.shape)"
      ]
    },
    {
      "cell_type": "code",
      "execution_count": 8,
      "metadata": {
        "colab": {
          "base_uri": "https://localhost:8080/",
          "height": 430
        },
        "id": "m4aROfIAqZCq",
        "outputId": "e6253883-c516-40d3-a48d-dca7e6a77fc5"
      },
      "outputs": [
        {
          "data": {
            "image/png": "[encoded data removed]",
            "text/plain": [
              "<Figure size 640x480 with 1 Axes>"
            ]
          },
          "metadata": {},
          "output_type": "display_data"
        }
      ],
      "source": [
        "plt.scatter(ave_score_passing, result_passing, s=20, c='r')\n",
        "plt.scatter(ave_score_failing, result_failing, s=20, c='b')\n",
        "plt.scatter(ave_score, pred, s=5, c='g')\n",
        "plt.show()\n"
      ]
    },
    {
      "cell_type": "code",
      "execution_count": 33,
      "metadata": {},
      "outputs": [],
      "source": [
        "# torch has similar functions for array as numpy -- with some even sharing the same name\n",
        "\n",
        "# def predict_torch(X_, th_):\n",
        "#   res = torch.matmul(X_.T,th_)\n",
        "#   # print(res.shape)\n",
        "#   return 1 / (1 + torch.exp(-res))\n",
        "\n",
        "# def calc_loss_torch( X_train, Y_true, th ):\n",
        "#   y_pred = predict_torch(X_train,th)\n",
        "#   loss = (torch.matmul(-Y_true,torch.log(y_pred)) - torch.matmul((1-Y_true),torch.log(1-y_pred)))\n",
        "#   return loss\n",
        "\n",
        "def predict_torch(X_, th_):\n",
        "  res = torch.matmul(torch.transpose(X_, 1, 0),th_)\n",
        "  return 1.0 / (1.0 + torch.exp(-res))\n",
        "\n",
        "def calc_loss_torch( X_train, Y_true, th ):\n",
        "  y_pred = predict_torch(X_train,th)\n",
        "  # print(y_pred)\n",
        "  #y_pred = torch.clamp(y_pred, 1e-7, 1 - 1e-7)\n",
        "  # loss = torch.binary_cross_entropy_with_logits()\n",
        "  l = -torch.mean(Y_true*torch.log(y_pred) + (1.0-Y_true)*torch.log(1-y_pred))\n",
        "  return l\n",
        "\n",
        "# try it out\n",
        "# loss = calc_loss_torch(X_t, Y_t, th_t)\n",
        "# print(loss)"
      ]
    },
    {
      "cell_type": "code",
      "execution_count": 34,
      "metadata": {},
      "outputs": [
        {
          "name": "stdout",
          "output_type": "stream",
          "text": [
            "initial theta: tensor([[0.3697],\n",
            "        [0.8099]], dtype=torch.float64, requires_grad=True)\n",
            "Final Answer: tensor([[1.0036],\n",
            "        [4.5413]], dtype=torch.float64, requires_grad=True)\n"
          ]
        }
      ],
      "source": [
        "n_steps = 8000\n",
        "lr = 1.0e-2\n",
        "\n",
        "X = torch.from_numpy(np.vstack((np.ones(len(ave_score)), ave_score)))\n",
        "#print(X)\n",
        "theta = np.random.random((2,1))\n",
        "th_t = torch.tensor(theta, requires_grad=True)\n",
        "print(\"initial theta: \" + str(th_t))\n",
        "th_track = np.zeros((n_steps+1,2))\n",
        "th_track[0,:] = theta.T\n",
        "loss_track = np.zeros(n_steps)\n",
        "\n",
        "for i in range(0,n_steps):\n",
        "    # print(th_t.grad)\n",
        "    loss = calc_loss_torch(X, result, th_t)\n",
        "    loss.backward()\n",
        "\n",
        "    with torch.no_grad():\n",
        "        # print(th_t.grad)\n",
        "        th_t -= lr*th_t.grad\n",
        "        th_track[i+1,:] = th_t.detach().numpy().T\n",
        "        loss_track[i] = loss.item()\n",
        "        th_t.grad.zero_()\n",
        "\n",
        "print(\"Final Answer: \" +str(th_t))"
      ]
    },
    {
      "cell_type": "code",
      "execution_count": 35,
      "metadata": {},
      "outputs": [
        {
          "data": {
            "image/png": "[encoded data removed]",
            "text/plain": [
              "<Figure size 640x480 with 1 Axes>"
            ]
          },
          "metadata": {},
          "output_type": "display_data"
        }
      ],
      "source": [
        "plt.plot(loss_track)\n",
        "plt.xlabel('Iterations')\n",
        "plt.ylabel('Loss')\n",
        "plt.title('Loss Curve')\n",
        "plt.show()"
      ]
    },
    {
      "cell_type": "code",
      "execution_count": 36,
      "metadata": {},
      "outputs": [
        {
          "name": "stdout",
          "output_type": "stream",
          "text": [
            "tensor([-0.4820, -1.5169, -0.5889,  0.4021,  0.5925, -0.7989,  0.7019, -0.2896,\n",
            "         0.8432, -0.1283,  0.0233, -0.7212,  0.7078,  0.9478, -0.4088,  0.3201,\n",
            "        -0.2761, -0.4690,  0.8517, -0.2115, -0.5877,  0.6092, -0.8598, -1.4070,\n",
            "         0.3915,  0.0138, -0.2031, -0.0321, -0.5303, -0.7268,  0.0680,  0.2623,\n",
            "        -0.4333, -0.2644, -0.5224, -0.6631,  0.0634,  0.3592, -0.4304, -0.5687,\n",
            "         0.2034, -0.8877,  0.7261, -0.2605, -0.9286, -0.4713,  0.4128,  1.3842,\n",
            "         0.7338,  1.2772,  0.5841,  0.7272,  0.0257, -0.9612, -0.8406, -0.5881,\n",
            "         0.8978, -0.0596,  0.3196,  0.4897,  0.7802, -1.3033, -0.9716, -1.3687,\n",
            "        -0.5355, -0.6559,  0.1963, -0.8157,  1.0782, -0.1130, -1.4699,  0.2779,\n",
            "         0.9845,  0.0519,  0.0849,  1.0490,  0.1271, -0.1329, -0.7753, -0.2073,\n",
            "         0.6978,  0.1987,  0.0532, -0.3985,  1.0492,  0.5968, -0.2673,  0.9084,\n",
            "         1.1583, -0.4908,  1.0305,  1.2162, -1.0913,  0.7321,  0.0608, -0.0216,\n",
            "        -0.0392,  0.9386, -0.3010,  0.8661], dtype=torch.float64)\n",
            "tensor([[0.],\n",
            "        [0.],\n",
            "        [0.],\n",
            "        [1.],\n",
            "        [1.],\n",
            "        [0.],\n",
            "        [1.],\n",
            "        [1.],\n",
            "        [1.],\n",
            "        [1.],\n",
            "        [0.],\n",
            "        [0.],\n",
            "        [1.],\n",
            "        [1.],\n",
            "        [0.],\n",
            "        [1.],\n",
            "        [1.],\n",
            "        [0.],\n",
            "        [1.],\n",
            "        [1.],\n",
            "        [0.],\n",
            "        [1.],\n",
            "        [0.],\n",
            "        [0.],\n",
            "        [1.],\n",
            "        [1.],\n",
            "        [1.],\n",
            "        [0.],\n",
            "        [0.],\n",
            "        [0.],\n",
            "        [1.],\n",
            "        [1.],\n",
            "        [0.],\n",
            "        [1.],\n",
            "        [0.],\n",
            "        [0.],\n",
            "        [0.],\n",
            "        [1.],\n",
            "        [0.],\n",
            "        [0.],\n",
            "        [1.],\n",
            "        [0.],\n",
            "        [1.],\n",
            "        [0.],\n",
            "        [0.],\n",
            "        [0.],\n",
            "        [1.],\n",
            "        [1.],\n",
            "        [1.],\n",
            "        [1.],\n",
            "        [1.],\n",
            "        [1.],\n",
            "        [1.],\n",
            "        [0.],\n",
            "        [0.],\n",
            "        [0.],\n",
            "        [1.],\n",
            "        [0.],\n",
            "        [1.],\n",
            "        [1.],\n",
            "        [1.],\n",
            "        [0.],\n",
            "        [0.],\n",
            "        [0.],\n",
            "        [0.],\n",
            "        [0.],\n",
            "        [1.],\n",
            "        [0.],\n",
            "        [1.],\n",
            "        [1.],\n",
            "        [0.],\n",
            "        [1.],\n",
            "        [1.],\n",
            "        [1.],\n",
            "        [1.],\n",
            "        [1.],\n",
            "        [1.],\n",
            "        [1.],\n",
            "        [0.],\n",
            "        [0.],\n",
            "        [1.],\n",
            "        [1.],\n",
            "        [1.],\n",
            "        [1.],\n",
            "        [1.],\n",
            "        [1.],\n",
            "        [0.],\n",
            "        [1.],\n",
            "        [1.],\n",
            "        [0.],\n",
            "        [1.],\n",
            "        [1.],\n",
            "        [0.],\n",
            "        [1.],\n",
            "        [1.],\n",
            "        [1.],\n",
            "        [1.],\n",
            "        [1.],\n",
            "        [1.],\n",
            "        [1.]])\n"
          ]
        },
        {
          "data": {
            "image/png": "[encoded data removed]",
            "text/plain": [
              "<Figure size 640x480 with 1 Axes>"
            ]
          },
          "metadata": {},
          "output_type": "display_data"
        }
      ],
      "source": [
        "# th_t = torch.tensor([[1.7], [5.4]], dtype=torch.double)\n",
        "pred = predict_torch(X, th_t)\n",
        "print(X[1,:])\n",
        "print(result)\n",
        "\n",
        "plt.scatter(ave_score_passing, result_passing, s=20, c='r')\n",
        "plt.scatter(ave_score_failing, result_failing, s=20, c='b')\n",
        "plt.scatter(ave_score, pred.detach().numpy(), s=5, c='g')\n",
        "plt.show()"
      ]
    },
    {
      "cell_type": "code",
      "execution_count": 131,
      "metadata": {},
      "outputs": [
        {
          "name": "stdout",
          "output_type": "stream",
          "text": [
            "tensor([-0.4820, -1.5169, -0.5889,  0.4021,  0.5925, -0.7989,  0.7019, -0.2896,\n",
            "         0.8432, -0.1283,  0.0233, -0.7212,  0.7078,  0.9478, -0.4088,  0.3201,\n",
            "        -0.2761, -0.4690,  0.8517, -0.2115, -0.5877,  0.6092, -0.8598, -1.4070,\n",
            "         0.3915,  0.0138, -0.2031, -0.0321, -0.5303, -0.7268,  0.0680,  0.2623,\n",
            "        -0.4333, -0.2644, -0.5224, -0.6631,  0.0634,  0.3592, -0.4304, -0.5687,\n",
            "         0.2034, -0.8877,  0.7261, -0.2605, -0.9286, -0.4713,  0.4128,  1.3842,\n",
            "         0.7338,  1.2772,  0.5841,  0.7272,  0.0257, -0.9612, -0.8406, -0.5881,\n",
            "         0.8978, -0.0596,  0.3196,  0.4897,  0.7802, -1.3033, -0.9716, -1.3687,\n",
            "        -0.5355, -0.6559,  0.1963, -0.8157,  1.0782, -0.1130, -1.4699,  0.2779,\n",
            "         0.9845,  0.0519,  0.0849,  1.0490,  0.1271, -0.1329, -0.7753, -0.2073,\n",
            "         0.6978,  0.1987,  0.0532, -0.3985,  1.0492,  0.5968, -0.2673,  0.9084,\n",
            "         1.1583, -0.4908,  1.0305,  1.2162, -1.0913,  0.7321,  0.0608, -0.0216,\n",
            "        -0.0392,  0.9386, -0.3010,  0.8661], dtype=torch.float64)\n"
          ]
        }
      ],
      "source": [
        "print(X[1,:])"
      ]
    },
    {
      "cell_type": "markdown",
      "metadata": {
        "id": "xSQuaozvppNe"
      },
      "source": [
        "## 2. Regularized Logistic Regression\n",
        "\n",
        "> In this part of the exercise, you will implement regularized logistic regression to predict whether microchips from a fabrication plant passes quality assur- ance (QA). During QA, each microchip goes through various tests to ensure it is functioning correctly.\n",
        "Suppose you are the product manager of the factory and you have the test results for some microchips on two different tests. From these two tests, you would like to determine whether the microchips should be accepted or rejected. To help you make the decision, you have a dataset of test results on past microchips, from which you can build a logistic regression model.\n",
        "\n",
        "\n",
        "The input data file `ex2data2.txt` can be downloaded from this [link]().\n",
        "\n",
        "As this is a co-lab notebook, we assume that the file has been uploaded to `/content/sample_data/`. Use the folder button on the left-hand side to navigate the instance's file system folders.\n",
        "### 2.1 Visualizing the Data\n",
        "\n",
        "You can see that a simple line is not a good model for regressing the data."
      ]
    },
    {
      "cell_type": "code",
      "execution_count": 88,
      "metadata": {
        "colab": {
          "base_uri": "https://localhost:8080/"
        },
        "id": "6pstWkL0ppNf",
        "outputId": "480551eb-5e5a-478f-c997-caf46bbaba76"
      },
      "outputs": [
        {
          "name": "stdout",
          "output_type": "stream",
          "text": [
            "shape of numpy array (expected to be (100,3)):  (100, 3)\n"
          ]
        }
      ],
      "source": [
        "# we use numpy's import function\n",
        "from numpy import genfromtxt\n",
        "data2 = genfromtxt('/Users/juliansutaria/Downloads/untitled folder 2/ex2data2.txt', delimiter=',')\n",
        "\n",
        "print(\"shape of numpy array (expected to be (100,3)): \",data.shape)"
      ]
    },
    {
      "cell_type": "code",
      "execution_count": 89,
      "metadata": {
        "colab": {
          "base_uri": "https://localhost:8080/",
          "height": 482
        },
        "id": "_0pZvOl2ppNf",
        "outputId": "0ee7c238-0477-4bd7-c5a5-439067fa2f7f"
      },
      "outputs": [
        {
          "name": "stdout",
          "output_type": "stream",
          "text": [
            "(118,)\n",
            "(60, 2)\n",
            "(60, 2)\n"
          ]
        },
        {
          "data": {
            "image/png": "[encoded data removed]",
            "text/plain": [
              "<Figure size 640x480 with 1 Axes>"
            ]
          },
          "metadata": {},
          "output_type": "display_data"
        }
      ],
      "source": [
        "# slice out the 3rd column, indicating if passed (=1) or failed(=0)\n",
        "chip_result = data2[:,2] # I want all the rows (:) but only the second column\n",
        "print(chip_result.shape)\n",
        "\n",
        "chip_passed = chip_result==1 # this test is run on each row of boss_result\n",
        "\n",
        "# now we can filter the scores for the passing players\n",
        "chip_passing_scores = data2[chip_passed[:],:2] # select only rows for passing players\n",
        "print(passing_scores.shape)\n",
        "\n",
        "# and the scores for the failing players\n",
        "chip_failing_scores = data2[~chip_passed[:],:2] # selet rows for failing players\n",
        "print(chip_failing_scores.shape)\n",
        "\n",
        "plt.scatter(chip_passing_scores[:,0], chip_passing_scores[:,1], s=10, c='r')\n",
        "plt.scatter(chip_failing_scores[:,0], chip_failing_scores[:,1], s=10, c='b')\n",
        "plt.show()"
      ]
    },
    {
      "cell_type": "markdown",
      "metadata": {
        "id": "IO43vshHppNf"
      },
      "source": [
        "### 2.2 Feature Mapping\n",
        "\n",
        "> One way to fit the data better is to create more features from each data point. We will map the features into all polynomial terms of $x_1$ and $x_2$ up to the sixth power. As a result of this mapping, our vector of two features (the scores on two QA tests) has been transformed into a 28-dimensional vector. A logistic regression classifier trained on this higher-dimension feature vector will have a more complex decision boundary and will appear nonlinear when drawn in our 2-dimensional plot."
      ]
    },
    {
      "cell_type": "code",
      "execution_count": null,
      "metadata": {
        "id": "NdU17Q-Zsl0v"
      },
      "outputs": [],
      "source": []
    },
    {
      "cell_type": "markdown",
      "metadata": {
        "id": "oLY0eEuIsnj-"
      },
      "source": [
        "## 2.2 Regularization\n",
        "\n",
        "Because we have so many parameters now, we add to the loss function some terms based on the parameter values.\n",
        "\n",
        "One common regularization is to add a loss term to keep the values small.\n",
        "\n",
        "Add to the loss function the sum of the parameter values squared -- this wants to keep the value of each parameter near zero.\n",
        "\n",
        "Another is to add the sum of the absolute value of each parameter to the loss function.  This has a slighly different effect, which is to keep the parameter values sparse: the number of parameters with large values is kept low."
      ]
    },
    {
      "cell_type": "code",
      "execution_count": null,
      "metadata": {
        "id": "eCP7joiotcbm"
      },
      "outputs": [],
      "source": []
    },
    {
      "cell_type": "markdown",
      "metadata": {
        "id": "f1ciuEKLtf2X"
      },
      "source": [
        "## Neural nework classification\n",
        "\n",
        "If you get to it, you can try a neural network. But we'll cover this next Tuesday -- and then start our projects."
      ]
    },
    {
      "cell_type": "code",
      "execution_count": null,
      "metadata": {
        "id": "yC4sXB04tobF"
      },
      "outputs": [],
      "source": []
    }
  ],
  "metadata": {
    "colab": {
      "provenance": []
    },
    "kernelspec": {
      "display_name": "Python 3 (ipykernel)",
      "language": "python",
      "name": "python3"
    },
    "language_info": {
      "codemirror_mode": {
        "name": "ipython",
        "version": 3
      },
      "file_extension": ".py",
      "mimetype": "text/x-python",
      "name": "python",
      "nbconvert_exporter": "python",
      "pygments_lexer": "ipython3",
      "version": "3.11.4"
    }
  },
  "nbformat": 4,
  "nbformat_minor": 0
}
